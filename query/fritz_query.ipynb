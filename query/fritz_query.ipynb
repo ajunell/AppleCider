{
 "cells": [
  {
   "cell_type": "markdown",
   "id": "4516abc9",
   "metadata": {},
   "source": [
    "# Fritz Query"
   ]
  },
  {
   "cell_type": "code",
   "execution_count": null,
   "id": "c63931aa",
   "metadata": {},
   "outputs": [],
   "source": [
    "import pandas as pd\n",
    "import numpy as np\n",
    "from tqdm.auto import tqdm\n",
    "import time\n",
    "\n",
    "import fritz_query as FritzQuery"
   ]
  },
  {
   "cell_type": "markdown",
   "id": "9fcd5dd3",
   "metadata": {},
   "source": [
    "<big>object classifications</big>"
   ]
  },
  {
   "cell_type": "markdown",
   "id": "5483ae4d",
   "metadata": {},
   "source": [
    "given a list of ZTF IDs, get object classifications from Fritz that are classified with probability $>= 0.6$ and are not classified by ML. "
   ]
  },
  {
   "cell_type": "markdown",
   "id": "c339ae96",
   "metadata": {},
   "source": [
    "`obj_classif` has object ID, classification<br>\n",
    "`obj_failed_requirements` has object_ID, classification<br>\n",
    "`failed_request` has object IDs of objects that either have no classification, hit the rate limit\n",
    "`_2muchdata` has objects ID, # of classifications for objects with 4 or more classifications that failed the requirements, can use this list to re-query to see if older classifications work "
   ]
  },
  {
   "cell_type": "code",
   "execution_count": null,
   "id": "8ff18957",
   "metadata": {},
   "outputs": [],
   "source": [
    "# my object IDs\n",
    "obj_IDs = pd.read_csv('obj_type.csv')\n",
    "query_IDs = obj_IDs['obj_id'].to_list()\n",
    "\n",
    "obj_classif, obj_failed_requirements, failed_request, _2muchdata = FritzQuery.query_classification(query_IDs)"
   ]
  },
  {
   "cell_type": "markdown",
   "id": "bef5fbbf",
   "metadata": {},
   "source": [
    "<big>object spectra</big>"
   ]
  },
  {
   "cell_type": "markdown",
   "id": "5f9da19f",
   "metadata": {},
   "source": [
    "`obj_spectra`has object ID, wavelength, flux, observed at, observed at mjd, instrument name, telescope name, # of spectra in Fritz <br>\n",
    "`skipped_list` has object IDs for which the request failed, rate limit exceeded <br>\n",
    "`no_spectra` has object IDs with no spectra"
   ]
  },
  {
   "cell_type": "code",
   "execution_count": null,
   "id": "d6c03e69",
   "metadata": {},
   "outputs": [],
   "source": [
    "obj_spectra, skipped_list, no_spectra = FritzQuery.query_spectra"
   ]
  },
  {
   "cell_type": "markdown",
   "id": "a640585b",
   "metadata": {},
   "source": [
    "then can save object spectra to their individual folders"
   ]
  },
  {
   "cell_type": "code",
   "execution_count": null,
   "id": "08f47703",
   "metadata": {},
   "outputs": [],
   "source": [
    "spectra_df = pd.DataFrame(obj_spectra, columns=['ZTFID', 'wavelengths', 'fluxes',\n",
    "                                                      'observed_at', 'observed_at_mjd', \n",
    "                                                      'instrument_name', 'telescope_name',\n",
    "                                                      'data_length'])"
   ]
  },
  {
   "cell_type": "code",
   "execution_count": null,
   "id": "9d8d2b25",
   "metadata": {},
   "outputs": [],
   "source": [
    "FritzQuery.save_obj_spectra_to_obj_folders(spectra_df, query_IDs, base_path)"
   ]
  },
  {
   "cell_type": "markdown",
   "id": "bd242e29",
   "metadata": {},
   "source": [
    "<big>additional object info</big>"
   ]
  },
  {
   "cell_type": "markdown",
   "id": "9a9c8e96",
   "metadata": {},
   "source": [
    "`obj_info` has object ID, tns name, RA, Dec, RA error, Dec error, host galaxy, gal lat, gal lon, luminosity distance<br>\n",
    "`no_info` has object IDs that there is no data for<br>\n",
    "`skipped_list` has object IDs for which the request failed, rate limit exceeded"
   ]
  },
  {
   "cell_type": "code",
   "execution_count": null,
   "id": "4beb6c6c",
   "metadata": {},
   "outputs": [],
   "source": [
    "obj_info, no_info, skipped_list = FritzQuery.query_info(query_IDs)"
   ]
  }
 ],
 "metadata": {
  "kernelspec": {
   "display_name": "env",
   "language": "python",
   "name": "python3"
  },
  "language_info": {
   "codemirror_mode": {
    "name": "ipython",
    "version": 3
   },
   "file_extension": ".py",
   "mimetype": "text/x-python",
   "name": "python",
   "nbconvert_exporter": "python",
   "pygments_lexer": "ipython3",
   "version": "3.12.3"
  }
 },
 "nbformat": 4,
 "nbformat_minor": 5
}
